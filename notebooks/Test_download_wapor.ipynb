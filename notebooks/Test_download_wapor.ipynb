{
 "cells": [
  {
   "cell_type": "code",
   "execution_count": 1,
   "id": "cddee523",
   "metadata": {},
   "outputs": [
    {
     "name": "stdout",
     "output_type": "stream",
     "text": [
      "Insert WAPOR API Token: 9db928619dc3610cd31ccdcaed56e5e33a50d738e6c9a230b69dda27535665a3bfe015f774fb8bb4\n",
      "Saved API Token\n",
      "Your WaPOR API Token is saved into: ../libs/modules\\WaPOR\\wapor_api_token.pickle. \n",
      " If you wish to change your API Token, please delete this file\n"
     ]
    }
   ],
   "source": [
    "import os\n",
    "import sys\n",
    "\n",
    "sys.path.append(r'../libs/modules')\n",
    "import WaPOR\n"
   ]
  },
  {
   "cell_type": "code",
   "execution_count": 2,
   "id": "f9673dbb",
   "metadata": {},
   "outputs": [],
   "source": [
    "xmin,ymin,xmax,ymax=(32.65692516077674,-25.16412729789142,32.90420244933813,-25.01450956754679)\n",
    "output_dir=r'.\\data'\n",
    "if not os.path.exists(output_dir):\n",
    "    os.makedirs(output_dir)"
   ]
  },
  {
   "cell_type": "code",
   "execution_count": 4,
   "id": "fa43933e",
   "metadata": {},
   "outputs": [
    {
     "name": "stdout",
     "output_type": "stream",
     "text": [
      "\n",
      "Download WaPOR Level 1 monthly RET data for the period 2009-01-01 till 2009-03-31\n",
      "Loading WaPOR catalog from cached file: ../libs/modules\\WaPOR\\catalog_2.pickle\n",
      "Cached WaPOR catalog has been loaded.\n",
      "If you wish to update catalog from WaPOR server, run this line:\n",
      "WaPOR.API.getCatalog(cached=False)\n",
      "Progress: |██████████████████████████████████████████████████| 100.0% Complete\n"
     ]
    },
    {
     "data": {
      "text/plain": [
       "'.\\\\data\\\\WAPOR.v2_monthly_L1_RET_M'"
      ]
     },
     "execution_count": 4,
     "metadata": {},
     "output_type": "execute_result"
    }
   ],
   "source": [
    "WaPOR.download_monthly(output_dir, \n",
    "                       data='RET',\n",
    "                       Startdate='2009-01-01', \n",
    "                       Enddate='2009-03-31', \n",
    "                       latlim=[ymin, ymax], \n",
    "                       lonlim=[xmin, xmax],\n",
    "                       level=1, \n",
    "                       )"
   ]
  },
  {
   "cell_type": "code",
   "execution_count": null,
   "id": "7bf84db9",
   "metadata": {},
   "outputs": [],
   "source": []
  }
 ],
 "metadata": {
  "kernelspec": {
   "display_name": "Python 3 (ipykernel)",
   "language": "python",
   "name": "python3"
  },
  "language_info": {
   "codemirror_mode": {
    "name": "ipython",
    "version": 3
   },
   "file_extension": ".py",
   "mimetype": "text/x-python",
   "name": "python",
   "nbconvert_exporter": "python",
   "pygments_lexer": "ipython3",
   "version": "3.7.13"
  }
 },
 "nbformat": 4,
 "nbformat_minor": 5
}
